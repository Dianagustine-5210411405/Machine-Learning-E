{
  "nbformat": 4,
  "nbformat_minor": 0,
  "metadata": {
    "colab": {
      "provenance": [],
      "toc_visible": true,
      "mount_file_id": "1u_FNRupFRT95myUQXaj6cP-MJ4XQCzYa",
      "authorship_tag": "ABX9TyNmT/4XaLi8aB74R2jrhLja",
      "include_colab_link": true
    },
    "kernelspec": {
      "name": "python3",
      "display_name": "Python 3"
    },
    "language_info": {
      "name": "python"
    }
  },
  "cells": [
    {
      "cell_type": "markdown",
      "metadata": {
        "id": "view-in-github",
        "colab_type": "text"
      },
      "source": [
        "<a href=\"https://colab.research.google.com/github/Dianagustine-5210411405/Machine-Learning-E/blob/main/Pre_processing_ML.ipynb\" target=\"_parent\"><img src=\"https://colab.research.google.com/assets/colab-badge.svg\" alt=\"Open In Colab\"/></a>"
      ]
    },
    {
      "cell_type": "markdown",
      "source": [
        "1. PERTAMA KITA AKAN MENGIMPOR PUSTAKA SERTA MEMUAT DATA YANG AKAN DI PROSES"
      ],
      "metadata": {
        "id": "lHyx88Mz_D-x"
      }
    },
    {
      "cell_type": "code",
      "execution_count": 39,
      "metadata": {
        "colab": {
          "base_uri": "https://localhost:8080/",
          "height": 351
        },
        "id": "oHQFKgnM6GWU",
        "outputId": "484923e3-5e96-41ed-f8ef-dff730509590"
      },
      "outputs": [
        {
          "output_type": "execute_result",
          "data": {
            "text/plain": [
              "           id   Date  number of bedrooms  number of bathrooms  living area  \\\n",
              "0  6762810145  42491                   5                 2.50         3650   \n",
              "1  6762810635  42491                   4                 2.50         2920   \n",
              "2  6762810998  42491                   5                 2.75         2910   \n",
              "3  6762812605  42491                   4                 2.50         3310   \n",
              "4  6762812919  42491                   3                 2.00         2710   \n",
              "\n",
              "   lot area  number of floors  waterfront present  number of views  \\\n",
              "0      9050               2.0                   0                4   \n",
              "1      4000               1.5                   0                0   \n",
              "2      9480               1.5                   0                0   \n",
              "3     42998               2.0                   0                0   \n",
              "4      4500               1.5                   0                0   \n",
              "\n",
              "   condition of the house  ...  Built Year  Renovation Year  Postal Code  \\\n",
              "0                       5  ...        1921                0       122003   \n",
              "1                       5  ...        1909                0       122004   \n",
              "2                       3  ...        1939                0       122004   \n",
              "3                       3  ...        2001                0       122005   \n",
              "4                       4  ...        1929                0       122006   \n",
              "\n",
              "   Lattitude  Longitude  living_area_renov  lot_area_renov  \\\n",
              "0    52.8645   -114.557               2880            5400   \n",
              "1    52.8878   -114.470               2470            4000   \n",
              "2    52.8852   -114.468               2940            6600   \n",
              "3    52.9532   -114.321               3350           42847   \n",
              "4    52.9047   -114.485               2060            4500   \n",
              "\n",
              "   Number of schools nearby  Distance from the airport    Price  \n",
              "0                         2                         58  2380000  \n",
              "1                         2                         51  1400000  \n",
              "2                         1                         53  1200000  \n",
              "3                         3                         76   838000  \n",
              "4                         1                         51   805000  \n",
              "\n",
              "[5 rows x 23 columns]"
            ],
            "text/html": [
              "\n",
              "  <div id=\"df-ca9018dc-7c4c-4cbe-8081-9a36502a992e\">\n",
              "    <div class=\"colab-df-container\">\n",
              "      <div>\n",
              "<style scoped>\n",
              "    .dataframe tbody tr th:only-of-type {\n",
              "        vertical-align: middle;\n",
              "    }\n",
              "\n",
              "    .dataframe tbody tr th {\n",
              "        vertical-align: top;\n",
              "    }\n",
              "\n",
              "    .dataframe thead th {\n",
              "        text-align: right;\n",
              "    }\n",
              "</style>\n",
              "<table border=\"1\" class=\"dataframe\">\n",
              "  <thead>\n",
              "    <tr style=\"text-align: right;\">\n",
              "      <th></th>\n",
              "      <th>id</th>\n",
              "      <th>Date</th>\n",
              "      <th>number of bedrooms</th>\n",
              "      <th>number of bathrooms</th>\n",
              "      <th>living area</th>\n",
              "      <th>lot area</th>\n",
              "      <th>number of floors</th>\n",
              "      <th>waterfront present</th>\n",
              "      <th>number of views</th>\n",
              "      <th>condition of the house</th>\n",
              "      <th>...</th>\n",
              "      <th>Built Year</th>\n",
              "      <th>Renovation Year</th>\n",
              "      <th>Postal Code</th>\n",
              "      <th>Lattitude</th>\n",
              "      <th>Longitude</th>\n",
              "      <th>living_area_renov</th>\n",
              "      <th>lot_area_renov</th>\n",
              "      <th>Number of schools nearby</th>\n",
              "      <th>Distance from the airport</th>\n",
              "      <th>Price</th>\n",
              "    </tr>\n",
              "  </thead>\n",
              "  <tbody>\n",
              "    <tr>\n",
              "      <th>0</th>\n",
              "      <td>6762810145</td>\n",
              "      <td>42491</td>\n",
              "      <td>5</td>\n",
              "      <td>2.50</td>\n",
              "      <td>3650</td>\n",
              "      <td>9050</td>\n",
              "      <td>2.0</td>\n",
              "      <td>0</td>\n",
              "      <td>4</td>\n",
              "      <td>5</td>\n",
              "      <td>...</td>\n",
              "      <td>1921</td>\n",
              "      <td>0</td>\n",
              "      <td>122003</td>\n",
              "      <td>52.8645</td>\n",
              "      <td>-114.557</td>\n",
              "      <td>2880</td>\n",
              "      <td>5400</td>\n",
              "      <td>2</td>\n",
              "      <td>58</td>\n",
              "      <td>2380000</td>\n",
              "    </tr>\n",
              "    <tr>\n",
              "      <th>1</th>\n",
              "      <td>6762810635</td>\n",
              "      <td>42491</td>\n",
              "      <td>4</td>\n",
              "      <td>2.50</td>\n",
              "      <td>2920</td>\n",
              "      <td>4000</td>\n",
              "      <td>1.5</td>\n",
              "      <td>0</td>\n",
              "      <td>0</td>\n",
              "      <td>5</td>\n",
              "      <td>...</td>\n",
              "      <td>1909</td>\n",
              "      <td>0</td>\n",
              "      <td>122004</td>\n",
              "      <td>52.8878</td>\n",
              "      <td>-114.470</td>\n",
              "      <td>2470</td>\n",
              "      <td>4000</td>\n",
              "      <td>2</td>\n",
              "      <td>51</td>\n",
              "      <td>1400000</td>\n",
              "    </tr>\n",
              "    <tr>\n",
              "      <th>2</th>\n",
              "      <td>6762810998</td>\n",
              "      <td>42491</td>\n",
              "      <td>5</td>\n",
              "      <td>2.75</td>\n",
              "      <td>2910</td>\n",
              "      <td>9480</td>\n",
              "      <td>1.5</td>\n",
              "      <td>0</td>\n",
              "      <td>0</td>\n",
              "      <td>3</td>\n",
              "      <td>...</td>\n",
              "      <td>1939</td>\n",
              "      <td>0</td>\n",
              "      <td>122004</td>\n",
              "      <td>52.8852</td>\n",
              "      <td>-114.468</td>\n",
              "      <td>2940</td>\n",
              "      <td>6600</td>\n",
              "      <td>1</td>\n",
              "      <td>53</td>\n",
              "      <td>1200000</td>\n",
              "    </tr>\n",
              "    <tr>\n",
              "      <th>3</th>\n",
              "      <td>6762812605</td>\n",
              "      <td>42491</td>\n",
              "      <td>4</td>\n",
              "      <td>2.50</td>\n",
              "      <td>3310</td>\n",
              "      <td>42998</td>\n",
              "      <td>2.0</td>\n",
              "      <td>0</td>\n",
              "      <td>0</td>\n",
              "      <td>3</td>\n",
              "      <td>...</td>\n",
              "      <td>2001</td>\n",
              "      <td>0</td>\n",
              "      <td>122005</td>\n",
              "      <td>52.9532</td>\n",
              "      <td>-114.321</td>\n",
              "      <td>3350</td>\n",
              "      <td>42847</td>\n",
              "      <td>3</td>\n",
              "      <td>76</td>\n",
              "      <td>838000</td>\n",
              "    </tr>\n",
              "    <tr>\n",
              "      <th>4</th>\n",
              "      <td>6762812919</td>\n",
              "      <td>42491</td>\n",
              "      <td>3</td>\n",
              "      <td>2.00</td>\n",
              "      <td>2710</td>\n",
              "      <td>4500</td>\n",
              "      <td>1.5</td>\n",
              "      <td>0</td>\n",
              "      <td>0</td>\n",
              "      <td>4</td>\n",
              "      <td>...</td>\n",
              "      <td>1929</td>\n",
              "      <td>0</td>\n",
              "      <td>122006</td>\n",
              "      <td>52.9047</td>\n",
              "      <td>-114.485</td>\n",
              "      <td>2060</td>\n",
              "      <td>4500</td>\n",
              "      <td>1</td>\n",
              "      <td>51</td>\n",
              "      <td>805000</td>\n",
              "    </tr>\n",
              "  </tbody>\n",
              "</table>\n",
              "<p>5 rows × 23 columns</p>\n",
              "</div>\n",
              "      <button class=\"colab-df-convert\" onclick=\"convertToInteractive('df-ca9018dc-7c4c-4cbe-8081-9a36502a992e')\"\n",
              "              title=\"Convert this dataframe to an interactive table.\"\n",
              "              style=\"display:none;\">\n",
              "        \n",
              "  <svg xmlns=\"http://www.w3.org/2000/svg\" height=\"24px\"viewBox=\"0 0 24 24\"\n",
              "       width=\"24px\">\n",
              "    <path d=\"M0 0h24v24H0V0z\" fill=\"none\"/>\n",
              "    <path d=\"M18.56 5.44l.94 2.06.94-2.06 2.06-.94-2.06-.94-.94-2.06-.94 2.06-2.06.94zm-11 1L8.5 8.5l.94-2.06 2.06-.94-2.06-.94L8.5 2.5l-.94 2.06-2.06.94zm10 10l.94 2.06.94-2.06 2.06-.94-2.06-.94-.94-2.06-.94 2.06-2.06.94z\"/><path d=\"M17.41 7.96l-1.37-1.37c-.4-.4-.92-.59-1.43-.59-.52 0-1.04.2-1.43.59L10.3 9.45l-7.72 7.72c-.78.78-.78 2.05 0 2.83L4 21.41c.39.39.9.59 1.41.59.51 0 1.02-.2 1.41-.59l7.78-7.78 2.81-2.81c.8-.78.8-2.07 0-2.86zM5.41 20L4 18.59l7.72-7.72 1.47 1.35L5.41 20z\"/>\n",
              "  </svg>\n",
              "      </button>\n",
              "      \n",
              "  <style>\n",
              "    .colab-df-container {\n",
              "      display:flex;\n",
              "      flex-wrap:wrap;\n",
              "      gap: 12px;\n",
              "    }\n",
              "\n",
              "    .colab-df-convert {\n",
              "      background-color: #E8F0FE;\n",
              "      border: none;\n",
              "      border-radius: 50%;\n",
              "      cursor: pointer;\n",
              "      display: none;\n",
              "      fill: #1967D2;\n",
              "      height: 32px;\n",
              "      padding: 0 0 0 0;\n",
              "      width: 32px;\n",
              "    }\n",
              "\n",
              "    .colab-df-convert:hover {\n",
              "      background-color: #E2EBFA;\n",
              "      box-shadow: 0px 1px 2px rgba(60, 64, 67, 0.3), 0px 1px 3px 1px rgba(60, 64, 67, 0.15);\n",
              "      fill: #174EA6;\n",
              "    }\n",
              "\n",
              "    [theme=dark] .colab-df-convert {\n",
              "      background-color: #3B4455;\n",
              "      fill: #D2E3FC;\n",
              "    }\n",
              "\n",
              "    [theme=dark] .colab-df-convert:hover {\n",
              "      background-color: #434B5C;\n",
              "      box-shadow: 0px 1px 3px 1px rgba(0, 0, 0, 0.15);\n",
              "      filter: drop-shadow(0px 1px 2px rgba(0, 0, 0, 0.3));\n",
              "      fill: #FFFFFF;\n",
              "    }\n",
              "  </style>\n",
              "\n",
              "      <script>\n",
              "        const buttonEl =\n",
              "          document.querySelector('#df-ca9018dc-7c4c-4cbe-8081-9a36502a992e button.colab-df-convert');\n",
              "        buttonEl.style.display =\n",
              "          google.colab.kernel.accessAllowed ? 'block' : 'none';\n",
              "\n",
              "        async function convertToInteractive(key) {\n",
              "          const element = document.querySelector('#df-ca9018dc-7c4c-4cbe-8081-9a36502a992e');\n",
              "          const dataTable =\n",
              "            await google.colab.kernel.invokeFunction('convertToInteractive',\n",
              "                                                     [key], {});\n",
              "          if (!dataTable) return;\n",
              "\n",
              "          const docLinkHtml = 'Like what you see? Visit the ' +\n",
              "            '<a target=\"_blank\" href=https://colab.research.google.com/notebooks/data_table.ipynb>data table notebook</a>'\n",
              "            + ' to learn more about interactive tables.';\n",
              "          element.innerHTML = '';\n",
              "          dataTable['output_type'] = 'display_data';\n",
              "          await google.colab.output.renderOutput(dataTable, element);\n",
              "          const docLink = document.createElement('div');\n",
              "          docLink.innerHTML = docLinkHtml;\n",
              "          element.appendChild(docLink);\n",
              "        }\n",
              "      </script>\n",
              "    </div>\n",
              "  </div>\n",
              "  "
            ]
          },
          "metadata": {},
          "execution_count": 39
        }
      ],
      "source": [
        "#Mengimpor pustaka serta memuat Data yang akan di proses\n",
        "import pandas as pd\n",
        "from sklearn.model_selection import train_test_split\n",
        "\n",
        "data = pd.read_csv('/content/drive/MyDrive/5210411405_Dianagustine ML/Dataset/House Price India.csv')\n",
        "\n",
        "data.head()"
      ]
    },
    {
      "cell_type": "code",
      "source": [],
      "metadata": {
        "id": "advxC8goC46U"
      },
      "execution_count": null,
      "outputs": []
    },
    {
      "cell_type": "code",
      "source": [
        "#melihat kolom atau atribut pada data\n",
        "data.columns "
      ],
      "metadata": {
        "colab": {
          "base_uri": "https://localhost:8080/"
        },
        "id": "mBi_KVx_62a9",
        "outputId": "8b8bd48e-f8e2-4836-9c15-539cfc5085da"
      },
      "execution_count": 17,
      "outputs": [
        {
          "output_type": "execute_result",
          "data": {
            "text/plain": [
              "Index(['id', 'Date', 'number of bedrooms', 'number of bathrooms',\n",
              "       'living area', 'lot area', 'number of floors', 'waterfront present',\n",
              "       'number of views', 'condition of the house', 'grade of the house',\n",
              "       'Area of the house(excluding basement)', 'Area of the basement',\n",
              "       'Built Year', 'Renovation Year', 'Postal Code', 'Lattitude',\n",
              "       'Longitude', 'living_area_renov', 'lot_area_renov',\n",
              "       'Number of schools nearby', 'Distance from the airport', 'Price'],\n",
              "      dtype='object')"
            ]
          },
          "metadata": {},
          "execution_count": 17
        }
      ]
    },
    {
      "cell_type": "markdown",
      "source": [
        "2. MENANGANI NILAI YANG HILANG SERTA DATA YANG TIDAK RELEVAN "
      ],
      "metadata": {
        "id": "QxW7tp-O_Sds"
      }
    },
    {
      "cell_type": "code",
      "source": [
        "#Sebelumnya kita akan mengecek missing value\n",
        "data.info()"
      ],
      "metadata": {
        "colab": {
          "base_uri": "https://localhost:8080/"
        },
        "id": "YAuK-E7y-yLt",
        "outputId": "2c92150d-5c1d-498c-bec3-9caad636f986"
      },
      "execution_count": 18,
      "outputs": [
        {
          "output_type": "stream",
          "name": "stdout",
          "text": [
            "<class 'pandas.core.frame.DataFrame'>\n",
            "RangeIndex: 14620 entries, 0 to 14619\n",
            "Data columns (total 23 columns):\n",
            " #   Column                                 Non-Null Count  Dtype  \n",
            "---  ------                                 --------------  -----  \n",
            " 0   id                                     14620 non-null  int64  \n",
            " 1   Date                                   14620 non-null  int64  \n",
            " 2   number of bedrooms                     14620 non-null  int64  \n",
            " 3   number of bathrooms                    14620 non-null  float64\n",
            " 4   living area                            14620 non-null  int64  \n",
            " 5   lot area                               14620 non-null  int64  \n",
            " 6   number of floors                       14620 non-null  float64\n",
            " 7   waterfront present                     14620 non-null  int64  \n",
            " 8   number of views                        14620 non-null  int64  \n",
            " 9   condition of the house                 14620 non-null  int64  \n",
            " 10  grade of the house                     14620 non-null  int64  \n",
            " 11  Area of the house(excluding basement)  14620 non-null  int64  \n",
            " 12  Area of the basement                   14620 non-null  int64  \n",
            " 13  Built Year                             14620 non-null  int64  \n",
            " 14  Renovation Year                        14620 non-null  int64  \n",
            " 15  Postal Code                            14620 non-null  int64  \n",
            " 16  Lattitude                              14620 non-null  float64\n",
            " 17  Longitude                              14620 non-null  float64\n",
            " 18  living_area_renov                      14620 non-null  int64  \n",
            " 19  lot_area_renov                         14620 non-null  int64  \n",
            " 20  Number of schools nearby               14620 non-null  int64  \n",
            " 21  Distance from the airport              14620 non-null  int64  \n",
            " 22  Price                                  14620 non-null  int64  \n",
            "dtypes: float64(4), int64(19)\n",
            "memory usage: 2.6 MB\n"
          ]
        }
      ]
    },
    {
      "cell_type": "code",
      "source": [
        "#Menangani nilai yang hilang (missing value) dan disini aman tidak ada data yang hilang\n",
        "missing_values = data.isnull().sum()                \n",
        "print(missing_values)"
      ],
      "metadata": {
        "colab": {
          "base_uri": "https://localhost:8080/"
        },
        "id": "VVGzDMlI6_e1",
        "outputId": "a16289c1-217e-44de-fba9-9c35183bc23f"
      },
      "execution_count": 37,
      "outputs": [
        {
          "output_type": "stream",
          "name": "stdout",
          "text": [
            "id                                       0\n",
            "Date                                     0\n",
            "number of bedrooms                       0\n",
            "number of bathrooms                      0\n",
            "living area                              0\n",
            "lot area                                 0\n",
            "number of floors                         0\n",
            "number of views                          0\n",
            "condition of the house                   0\n",
            "grade of the house                       0\n",
            "Area of the house(excluding basement)    0\n",
            "Area of the basement                     0\n",
            "Built Year                               0\n",
            "Renovation Year                          0\n",
            "Postal Code                              0\n",
            "Lattitude                                0\n",
            "Longitude                                0\n",
            "living_area_renov                        0\n",
            "lot_area_renov                           0\n",
            "Number of schools nearby                 0\n",
            "Distance from the airport                0\n",
            "Price                                    0\n",
            "dtype: int64\n"
          ]
        }
      ]
    },
    {
      "cell_type": "code",
      "source": [
        "#Menghapus kolom yang tidak relevan atau kolom yang tidak memiliki nilai sama sekali \n",
        "#(bisa dilihat di bagian atas no.1)\n",
        "X = data.drop(['waterfront present', 'Renovation Year'], axis=1)"
      ],
      "metadata": {
        "id": "kiPind7rAKZT"
      },
      "execution_count": 49,
      "outputs": []
    },
    {
      "cell_type": "code",
      "source": [
        "#Mengubah kategorikal menjadi numerik (sudah terdapat int dan float)\n",
        "data.dtypes"
      ],
      "metadata": {
        "colab": {
          "base_uri": "https://localhost:8080/"
        },
        "id": "hxNdQzLc7mmv",
        "outputId": "6b625ab3-e99b-459c-bbcf-d1c00b652b9d"
      },
      "execution_count": 52,
      "outputs": [
        {
          "output_type": "execute_result",
          "data": {
            "text/plain": [
              "id                                         int64\n",
              "Date                                       int64\n",
              "number of bedrooms                         int64\n",
              "number of bathrooms                      float64\n",
              "living area                                int64\n",
              "lot area                                   int64\n",
              "number of floors                         float64\n",
              "waterfront present                         int64\n",
              "number of views                            int64\n",
              "condition of the house                     int64\n",
              "grade of the house                         int64\n",
              "Area of the house(excluding basement)      int64\n",
              "Area of the basement                       int64\n",
              "Built Year                                 int64\n",
              "Renovation Year                            int64\n",
              "Postal Code                                int64\n",
              "Lattitude                                float64\n",
              "Longitude                                float64\n",
              "living_area_renov                          int64\n",
              "lot_area_renov                             int64\n",
              "Number of schools nearby                   int64\n",
              "Distance from the airport                  int64\n",
              "Price                                      int64\n",
              "dtype: object"
            ]
          },
          "metadata": {},
          "execution_count": 52
        }
      ]
    },
    {
      "cell_type": "markdown",
      "source": [
        "3. MENORMALISASI/STANDARISASI"
      ],
      "metadata": {
        "id": "uJCmztJfH5O3"
      }
    },
    {
      "cell_type": "code",
      "source": [
        "print(data)"
      ],
      "metadata": {
        "colab": {
          "base_uri": "https://localhost:8080/"
        },
        "id": "OxTWkJBbJQY1",
        "outputId": "11c9431d-5745-4e5f-c056-ba0b12879db4"
      },
      "execution_count": 56,
      "outputs": [
        {
          "output_type": "stream",
          "name": "stdout",
          "text": [
            "               id   Date  number of bedrooms  number of bathrooms  \\\n",
            "0      6762810145  42491                   5                 2.50   \n",
            "1      6762810635  42491                   4                 2.50   \n",
            "2      6762810998  42491                   5                 2.75   \n",
            "3      6762812605  42491                   4                 2.50   \n",
            "4      6762812919  42491                   3                 2.00   \n",
            "...           ...    ...                 ...                  ...   \n",
            "14615  6762830250  42734                   2                 1.50   \n",
            "14616  6762830339  42734                   3                 2.00   \n",
            "14617  6762830618  42734                   2                 1.00   \n",
            "14618  6762830709  42734                   4                 1.00   \n",
            "14619  6762831463  42734                   3                 1.00   \n",
            "\n",
            "       living area  lot area  number of floors  waterfront present  \\\n",
            "0             3650      9050               2.0                   0   \n",
            "1             2920      4000               1.5                   0   \n",
            "2             2910      9480               1.5                   0   \n",
            "3             3310     42998               2.0                   0   \n",
            "4             2710      4500               1.5                   0   \n",
            "...            ...       ...               ...                 ...   \n",
            "14615         1556     20000               1.0                   0   \n",
            "14616         1680      7000               1.5                   0   \n",
            "14617         1070      6120               1.0                   0   \n",
            "14618         1030      6621               1.0                   0   \n",
            "14619          900      4770               1.0                   0   \n",
            "\n",
            "       number of views  condition of the house  ...  Built Year  \\\n",
            "0                    4                       5  ...        1921   \n",
            "1                    0                       5  ...        1909   \n",
            "2                    0                       3  ...        1939   \n",
            "3                    0                       3  ...        2001   \n",
            "4                    0                       4  ...        1929   \n",
            "...                ...                     ...  ...         ...   \n",
            "14615                0                       4  ...        1957   \n",
            "14616                0                       4  ...        1968   \n",
            "14617                0                       3  ...        1962   \n",
            "14618                0                       4  ...        1955   \n",
            "14619                0                       3  ...        1969   \n",
            "\n",
            "       Renovation Year  Postal Code  Lattitude  Longitude  living_area_renov  \\\n",
            "0                    0       122003    52.8645   -114.557               2880   \n",
            "1                    0       122004    52.8878   -114.470               2470   \n",
            "2                    0       122004    52.8852   -114.468               2940   \n",
            "3                    0       122005    52.9532   -114.321               3350   \n",
            "4                    0       122006    52.9047   -114.485               2060   \n",
            "...                ...          ...        ...        ...                ...   \n",
            "14615                0       122066    52.6191   -114.472               2250   \n",
            "14616                0       122072    52.5075   -114.393               1540   \n",
            "14617                0       122056    52.7289   -114.507               1130   \n",
            "14618                0       122042    52.7157   -114.411               1420   \n",
            "14619             2009       122018    52.5338   -114.552                900   \n",
            "\n",
            "       lot_area_renov  Number of schools nearby  Distance from the airport  \\\n",
            "0                5400                         2                         58   \n",
            "1                4000                         2                         51   \n",
            "2                6600                         1                         53   \n",
            "3               42847                         3                         76   \n",
            "4                4500                         1                         51   \n",
            "...               ...                       ...                        ...   \n",
            "14615           17286                         3                         76   \n",
            "14616            7480                         3                         59   \n",
            "14617            6120                         2                         64   \n",
            "14618            6631                         3                         54   \n",
            "14619            3480                         2                         55   \n",
            "\n",
            "         Price  \n",
            "0      2380000  \n",
            "1      1400000  \n",
            "2      1200000  \n",
            "3       838000  \n",
            "4       805000  \n",
            "...        ...  \n",
            "14615   221700  \n",
            "14616   219200  \n",
            "14617   209000  \n",
            "14618   205000  \n",
            "14619   146000  \n",
            "\n",
            "[14620 rows x 23 columns]\n"
          ]
        }
      ]
    },
    {
      "cell_type": "code",
      "source": [
        "#Menampilkan statistik deskriptif\n",
        "print(data.describe())"
      ],
      "metadata": {
        "colab": {
          "base_uri": "https://localhost:8080/"
        },
        "id": "09ykz9TVH92Z",
        "outputId": "6d8f49d7-c63b-4606-9aa8-5f1d99f1033a"
      },
      "execution_count": 57,
      "outputs": [
        {
          "output_type": "stream",
          "name": "stdout",
          "text": [
            "                 id          Date  number of bedrooms  number of bathrooms  \\\n",
            "count  1.462000e+04  14620.000000        14620.000000         14620.000000   \n",
            "mean   6.762821e+09  42604.538646            3.379343             2.129583   \n",
            "std    6.237575e+03     67.347991            0.938719             0.769934   \n",
            "min    6.762810e+09  42491.000000            1.000000             0.500000   \n",
            "25%    6.762815e+09  42546.000000            3.000000             1.750000   \n",
            "50%    6.762821e+09  42600.000000            3.000000             2.250000   \n",
            "75%    6.762826e+09  42662.000000            4.000000             2.500000   \n",
            "max    6.762832e+09  42734.000000           33.000000             8.000000   \n",
            "\n",
            "        living area      lot area  number of floors  waterfront present  \\\n",
            "count  14620.000000  1.462000e+04      14620.000000        14620.000000   \n",
            "mean    2098.262996  1.509328e+04          1.502360            0.007661   \n",
            "std      928.275721  3.791962e+04          0.540239            0.087193   \n",
            "min      370.000000  5.200000e+02          1.000000            0.000000   \n",
            "25%     1440.000000  5.010750e+03          1.000000            0.000000   \n",
            "50%     1930.000000  7.620000e+03          1.500000            0.000000   \n",
            "75%     2570.000000  1.080000e+04          2.000000            0.000000   \n",
            "max    13540.000000  1.074218e+06          3.500000            1.000000   \n",
            "\n",
            "       number of views  condition of the house  ...    Built Year  \\\n",
            "count     14620.000000            14620.000000  ...  14620.000000   \n",
            "mean          0.233105                3.430506  ...   1970.926402   \n",
            "std           0.766259                0.664151  ...     29.493625   \n",
            "min           0.000000                1.000000  ...   1900.000000   \n",
            "25%           0.000000                3.000000  ...   1951.000000   \n",
            "50%           0.000000                3.000000  ...   1975.000000   \n",
            "75%           0.000000                4.000000  ...   1997.000000   \n",
            "max           4.000000                5.000000  ...   2015.000000   \n",
            "\n",
            "       Renovation Year    Postal Code     Lattitude     Longitude  \\\n",
            "count     14620.000000   14620.000000  14620.000000  14620.000000   \n",
            "mean         90.924008  122033.062244     52.792848   -114.404007   \n",
            "std         416.216661      19.082418      0.137522      0.141326   \n",
            "min           0.000000  122003.000000     52.385900   -114.709000   \n",
            "25%           0.000000  122017.000000     52.707600   -114.519000   \n",
            "50%           0.000000  122032.000000     52.806400   -114.421000   \n",
            "75%           0.000000  122048.000000     52.908900   -114.315000   \n",
            "max        2015.000000  122072.000000     53.007600   -113.505000   \n",
            "\n",
            "       living_area_renov  lot_area_renov  Number of schools nearby  \\\n",
            "count       14620.000000    14620.000000              14620.000000   \n",
            "mean         1996.702257    12753.500068                  2.012244   \n",
            "std           691.093366    26058.414467                  0.817284   \n",
            "min           460.000000      651.000000                  1.000000   \n",
            "25%          1490.000000     5097.750000                  1.000000   \n",
            "50%          1850.000000     7620.000000                  2.000000   \n",
            "75%          2380.000000    10125.000000                  3.000000   \n",
            "max          6110.000000   560617.000000                  3.000000   \n",
            "\n",
            "       Distance from the airport         Price  \n",
            "count               14620.000000  1.462000e+04  \n",
            "mean                   64.950958  5.389322e+05  \n",
            "std                     8.936008  3.675324e+05  \n",
            "min                    50.000000  7.800000e+04  \n",
            "25%                    57.000000  3.200000e+05  \n",
            "50%                    65.000000  4.500000e+05  \n",
            "75%                    73.000000  6.450000e+05  \n",
            "max                    80.000000  7.700000e+06  \n",
            "\n",
            "[8 rows x 23 columns]\n"
          ]
        }
      ]
    },
    {
      "cell_type": "code",
      "source": [
        "#Menormalisasikan kolom harga (menggunakan standarisasi)\n",
        "from sklearn import preprocessing\n",
        "import numpy as np\n",
        "x_array = np.array(data['Price'])\n",
        "normalized_X = preprocessing.normalize([x_array])\n",
        "print(normalized_X)"
      ],
      "metadata": {
        "colab": {
          "base_uri": "https://localhost:8080/"
        },
        "id": "9-pNkLzRJ8UQ",
        "outputId": "83072541-436d-4a24-9cdb-651fd0251e11"
      },
      "execution_count": 68,
      "outputs": [
        {
          "output_type": "stream",
          "name": "stdout",
          "text": [
            "[[0.03017477 0.01774986 0.01521417 ... 0.0026498  0.00259909 0.00185106]]\n"
          ]
        }
      ]
    },
    {
      "cell_type": "code",
      "source": [
        "X = data.drop(['Price'], axis=1)\n",
        "y = data['Price']"
      ],
      "metadata": {
        "id": "sX0TGVZ6GmoH"
      },
      "execution_count": 69,
      "outputs": []
    },
    {
      "cell_type": "code",
      "source": [
        "# Membuat data training dan data testing\n",
        "X_train, X_test, y_train, y_test = train_test_split(X, y, test_size=0.2)\n",
        "\n",
        "# cek bentuk dari X_train and X_test\n",
        "X_train.shape, X_test.shape"
      ],
      "metadata": {
        "colab": {
          "base_uri": "https://localhost:8080/"
        },
        "id": "y9b4XXvT77Pm",
        "outputId": "5968e5a0-c5e1-47ce-9a8f-f2a903378647"
      },
      "execution_count": 70,
      "outputs": [
        {
          "output_type": "execute_result",
          "data": {
            "text/plain": [
              "((11696, 22), (2924, 22))"
            ]
          },
          "metadata": {},
          "execution_count": 70
        }
      ]
    },
    {
      "cell_type": "code",
      "source": [
        "#Menyimpan data\n",
        "data.to_csv('House Price_2.csv', header=True, index=False)"
      ],
      "metadata": {
        "id": "ivAiLmQYL3zP"
      },
      "execution_count": 71,
      "outputs": []
    }
  ]
}